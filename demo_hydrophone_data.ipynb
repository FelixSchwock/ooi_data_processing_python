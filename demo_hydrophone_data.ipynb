{
 "cells": [
  {
   "cell_type": "markdown",
   "metadata": {},
   "source": [
    "# Code Demonstrating Functionality of Acquiring Data\n",
    "Excerpts from demo.ipynb selected to clearly outline functionality of acquiring data\n",
    "\n",
    "## Some Notes about get_acoustic_data\n",
    "- There is a function get_acoustic_data_mp which uses multiprocessing. This function calls get_acoustic_data (which does not use multiprocessing.\n",
    "- no filter is used for this example"
   ]
  },
  {
   "cell_type": "code",
   "execution_count": 1,
   "metadata": {},
   "outputs": [],
   "source": [
    "import numpy as np\n",
    "from matplotlib import pyplot as plt\n",
    "import datetime\n",
    "import ooi_data_processing_library as ooipy\n",
    "import timeit\n",
    "\n",
    "\n",
    "# Some more magic so that the notebook will reload external python modules;\n",
    "# see http://stackoverflow.com/questions/1907993/autoreload-of-modules-in-ipython\n",
    "%load_ext autoreload\n",
    "%autoreload 2"
   ]
  },
  {
   "cell_type": "code",
   "execution_count": 17,
   "metadata": {
    "tags": []
   },
   "outputs": [
    {
     "name": "stdout",
     "output_type": "stream",
     "text": [
      "Fetching URLs...\n",
      "Sorting valid URLs for Time Window...\n",
      "Downloading mseed files...\n",
      "=== Reading: OO-HYVM2--YDH-2017-03-09T23:55:00.000015.mseed ===\n",
      "=== Reading: OO-HYVM2--YDH-2017-03-10T00:00:00.000015.mseed ===\n",
      "=== Reading: OO-HYVM2--YDH-2017-03-10T00:05:00.000015.mseed ===\n"
     ]
    }
   ],
   "source": [
    "start_time = datetime.datetime(2017,3,10,0,0,0)\n",
    "end_time = datetime.datetime(2017,3,10,0,5,0)\n",
    "\n",
    "acoustic_data = request.request.get_acoustic_data_conc(start_time, end_time, node='/PC01A', verbose=True)"
   ]
  },
  {
   "cell_type": "code",
   "execution_count": 20,
   "metadata": {
    "tags": []
   },
   "outputs": [
    {
     "data": {
      "text/plain": [
       "         network: OO\n",
       "         station: HYVM2\n",
       "        location: \n",
       "         channel: YDH\n",
       "       starttime: 2017-03-09T23:59:59.999999Z\n",
       "         endtime: 2017-03-10T00:04:59.999999Z\n",
       "   sampling_rate: 64000.0\n",
       "           delta: 1.5625e-05\n",
       "            npts: 19200001\n",
       "           calib: 1.0\n",
       "         _format: MSEED\n",
       "           mseed: AttribDict({'dataquality': 'D', 'number_of_records': 9217, 'encoding': 'STEIM2', 'byteorder': '>', 'record_length': 4096, 'filesize': 37752832})\n",
       "      processing: ['ObsPy 1.2.1: trim(endtime=UTCDateTime(2017, 3, 10, 0, 5)::fill_value=None::nearest_sample=True::pad=False::starttime=UTCDateTime(2017, 3, 10, 0, 0))']"
      ]
     },
     "execution_count": 20,
     "metadata": {},
     "output_type": "execute_result"
    }
   ],
   "source": [
    "acoustic_data.stats"
   ]
  },
  {
   "cell_type": "code",
   "execution_count": 21,
   "metadata": {
    "tags": []
   },
   "outputs": [
    {
     "name": "stdout",
     "output_type": "stream",
     "text": [
      "type:  <class 'obspy.core.trace.Trace'> \n",
      "\n",
      "acoustic data:  OO.HYVM2..YDH | 2016-10-06T00:00:00.000000Z - 2016-10-06T00:05:00.000000Z | 64000.0 Hz, 19200001 samples \n",
      "\n",
      "stats:           network: OO\n",
      "         station: HYVM2\n",
      "        location: \n",
      "         channel: YDH\n",
      "       starttime: 2016-10-06T00:00:00.000000Z\n",
      "         endtime: 2016-10-06T00:05:00.000000Z\n",
      "   sampling_rate: 64000.0\n",
      "           delta: 1.5625e-05\n",
      "            npts: 19200001\n",
      "           calib: 1.0\n",
      "         _format: MSEED\n",
      "           mseed: AttribDict({'dataquality': 'D', 'number_of_records': 6816, 'encoding': 'STEIM2', 'byteorder': '>', 'record_length': 4096, 'filesize': 27918336})\n",
      "      processing: ['ObsPy 1.2.1: trim(endtime=UTCDateTime(2016, 10, 6, 0, 5)::fill_value=None::nearest_sample=True::pad=False::starttime=UTCDateTime(2016, 10, 6, 0, 0))'] \n",
      "\n",
      "data:  [-23994.         -23951.         -23779.         ..., -23547.74121406\n",
      " -23547.37060703 -23547.        ] \n",
      "\n"
     ]
    }
   ],
   "source": [
    "# get data using get_acoustic_data function\n",
    "# starttime, endtime, and node have to be specified.\n",
    "start_time = datetime.datetime(2016,10,6,0,0,0) # time of first sample\n",
    "end_time = datetime.datetime(2016,10,6,0,5,0) # time of last sample\n",
    "ooi1 = ooipy.OOIHydrophoneData()\n",
    "ooi1.get_acoustic_data_conc(starttime=start_time, endtime=end_time, node='/PC01A', fmin=None, fmax=None)\n",
    "print('type: ', type(ooi1.data), '\\n')\n",
    "print('acoustic data: ', ooi1.data, '\\n')\n",
    "print('stats: ', ooi1.data.stats, '\\n')\n",
    "print('data: ', ooi1.data.data, '\\n')"
   ]
  },
  {
   "cell_type": "markdown",
   "metadata": {},
   "source": [
    "## Comparing Download Times for Different Nodes"
   ]
  },
  {
   "cell_type": "code",
   "execution_count": 19,
   "metadata": {},
   "outputs": [
    {
     "name": "stdout",
     "output_type": "stream",
     "text": [
      "Downloading Data from Node 1:\n",
      "Fetching URLs...\n",
      "Sorting valid URLs for Time Window...\n",
      "Downloading mseed files...\n",
      "Downloading Data from Node 2:\n",
      "Fetching URLs...\n",
      "Sorting valid URLs for Time Window...\n",
      "Downloading mseed files...\n",
      "\n",
      "\n",
      "Time to Download 5 min from /LJ01C: 6.111800007602142e-05\n",
      "Time to Download 5 min from /PC01A: 0.00022200599994448567\n",
      "\n",
      "\n",
      "Percent Increase for Node 2: 363.2415976771888%\n"
     ]
    }
   ],
   "source": [
    "start_time = datetime.datetime(2017,3,10,0,0,0) # time of first sample\n",
    "end_time = datetime.datetime(2017,3,10,0,5,0) # time of last sample\n",
    "ooi1 = ooipy.OOIHydrophoneData()\n",
    "node1 = '/LJ01C'\n",
    "print('Downloading Data from Node 1:')\n",
    "\n",
    "t1_start = timeit.timeit()\n",
    "ooi1.get_acoustic_data_conc(starttime=start_time, endtime=end_time, node=node1, fmin=None, fmax=None, verbose=True)\n",
    "t1_end = timeit.timeit()\n",
    "\n",
    "ooi2 = ooipy.OOIHydrophoneData()\n",
    "node2 = '/PC01A'\n",
    "\n",
    "print('Downloading Data from Node 2:')\n",
    "t2_start = timeit.timeit()\n",
    "ooi2.get_acoustic_data_conc(starttime=start_time, endtime=end_time, node=node2, fmin=None, fmax=None, verbose=True)\n",
    "t2_end = timeit.timeit()\n",
    "\n",
    "t1 = np.abs(t1_start-t1_end)\n",
    "t2 = np.abs(t2_start-t2_end)\n",
    "percent_increase = t2/t1*100\n",
    "\n",
    "print('\\n')\n",
    "print(f'Time to Download 5 min from {node1}: {t1}')\n",
    "print(f'Time to Download 5 min from {node2}: {t2}')\n",
    "print('\\n')\n",
    "print(f'Percent Increase for Node 2: {percent_increase}%')"
   ]
  },
  {
   "cell_type": "code",
   "execution_count": null,
   "metadata": {},
   "outputs": [],
   "source": []
  }
 ],
 "metadata": {
  "kernelspec": {
   "display_name": "Python 3",
   "language": "python",
   "name": "python3"
  },
  "language_info": {
   "codemirror_mode": {
    "name": "ipython",
    "version": 3
   },
   "file_extension": ".py",
   "mimetype": "text/x-python",
   "name": "python",
   "nbconvert_exporter": "python",
   "pygments_lexer": "ipython3",
   "version": "3.7.6"
  }
 },
 "nbformat": 4,
 "nbformat_minor": 4
}
