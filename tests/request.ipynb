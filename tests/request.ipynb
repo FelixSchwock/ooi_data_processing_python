{
 "cells": [
  {
   "cell_type": "code",
   "execution_count": 10,
   "metadata": {},
   "outputs": [],
   "source": [
    "import os\n",
    "import sys\n",
    "sys.path.append('../')\n",
    "#sys.path.insert(1, '/request/hydrophone/')\n",
    "from request import hydrophone\n",
    "import datetime"
   ]
  },
  {
   "cell_type": "code",
   "execution_count": 12,
   "metadata": {},
   "outputs": [
    {
     "name": "stdout",
     "output_type": "stream",
     "text": [
      "single thread function: \n",
      "\n"
     ]
    },
    {
     "name": "stderr",
     "output_type": "stream",
     "text": [
      "C:\\Users\\fschwock\\AppData\\Local\\Continuum\\anaconda3\\envs\\obspy\\lib\\site-packages\\obspy\\core\\utcdatetime.py:1271: ObsPyDeprecationWarning: Setting attributes on UTCDateTime instances will raise an Exception in a future version of Obspy.\n",
      "  warnings.warn(msg, ObsPyDeprecationWarning)\n"
     ]
    },
    {
     "name": "stdout",
     "output_type": "stream",
     "text": [
      "         network: OO\n",
      "         station: HYVM2\n",
      "        location: \n",
      "         channel: YDH\n",
      "       starttime: 2017-03-09T23:59:59.999999Z\n",
      "         endtime: 2017-03-10T00:04:59.999999Z\n",
      "   sampling_rate: 64000.0\n",
      "           delta: 1.5625e-05\n",
      "            npts: 19200001\n",
      "           calib: 1.0\n",
      "         _format: MSEED\n",
      "           mseed: AttribDict({'dataquality': 'D', 'number_of_records': 9217, 'encoding': 'STEIM2', 'byteorder': '>', 'record_length': 4096, 'filesize': 37752832})\n",
      "      processing: ['ObsPy 1.2.1: trim(endtime=UTCDateTime(2017, 3, 10, 0, 5)::fill_value=None::nearest_sample=True::pad=False::starttime=UTCDateTime(2017, 3, 10, 0, 0))']\n",
      "----------------------------------------------------------------- \n",
      "\n",
      "multi thread function: \n",
      "\n",
      "=== Reading: OO-HYVM2--YDH-2017-03-09T23:55:00.000015.mseed ====== Reading: OO-HYVM2--YDH-2017-03-10T00:00:00.000015.mseed ===\n",
      "=== Reading: OO-HYVM2--YDH-2017-03-10T00:05:00.000015.mseed ===\n",
      "\n",
      "         network: OO\n",
      "         station: HYVM2\n",
      "        location: \n",
      "         channel: YDH\n",
      "       starttime: 2017-03-09T23:59:59.999999Z\n",
      "         endtime: 2017-03-10T00:04:59.999999Z\n",
      "   sampling_rate: 64000.0\n",
      "           delta: 1.5625e-05\n",
      "            npts: 19200001\n",
      "           calib: 1.0\n",
      "         _format: MSEED\n",
      "           mseed: AttribDict({'dataquality': 'D', 'number_of_records': 9217, 'encoding': 'STEIM2', 'byteorder': '>', 'record_length': 4096, 'filesize': 37752832})\n",
      "      processing: ['ObsPy 1.2.1: trim(endtime=UTCDateTime(2017, 3, 10, 0, 5)::fill_value=None::nearest_sample=True::pad=False::starttime=UTCDateTime(2017, 3, 10, 0, 0))']\n"
     ]
    }
   ],
   "source": [
    "start_time = datetime.datetime(2017,3,10,0,0,0)\n",
    "end_time = datetime.datetime(2017,3,10,0,5,0)\n",
    "node = '/PC01A'\n",
    "\n",
    "print('single thread function: \\n')\n",
    "data1 = hydrophone.get_acoustic_data(start_time, end_time, node)\n",
    "print(data1.stats)\n",
    "\n",
    "print('----------------------------------------------------------------- \\n')\n",
    "\n",
    "print('multi thread function: \\n')\n",
    "data2 = hydrophone.get_acoustic_data_conc(start_time, end_time, node)\n",
    "print(data2.stats)\n"
   ]
  },
  {
   "cell_type": "code",
   "execution_count": null,
   "metadata": {},
   "outputs": [],
   "source": [
    "hydrophone."
   ]
  }
 ],
 "metadata": {
  "kernelspec": {
   "display_name": "Python 3",
   "language": "python",
   "name": "python3"
  },
  "language_info": {
   "codemirror_mode": {
    "name": "ipython",
    "version": 3
   },
   "file_extension": ".py",
   "mimetype": "text/x-python",
   "name": "python",
   "nbconvert_exporter": "python",
   "pygments_lexer": "ipython3",
   "version": "3.7.6"
  }
 },
 "nbformat": 4,
 "nbformat_minor": 4
}
