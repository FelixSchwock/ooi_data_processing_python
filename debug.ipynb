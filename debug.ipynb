{
 "cells": [
  {
   "cell_type": "code",
   "execution_count": 2,
   "metadata": {},
   "outputs": [],
   "source": [
    "import numpy as np\n",
    "from matplotlib import pyplot as plt\n",
    "import datetime\n",
    "import ooi_data_processing_library as ooipy\n",
    "\n",
    "# Some more magic so that the notebook will reload external python modules;\n",
    "# see http://stackoverflow.com/questions/1907993/autoreload-of-modules-in-ipython\n",
    "%load_ext autoreload\n",
    "%autoreload 2"
   ]
  },
  {
   "cell_type": "code",
   "execution_count": 9,
   "metadata": {},
   "outputs": [
    {
     "name": "stdout",
     "output_type": "stream",
     "text": [
      "Other exception\n",
      "No Data Collected\n",
      "\n",
      "\n",
      "[ 22748.77237287  35158.97269713  26146.05656072 ...,  -2440.09876245\n",
      "  -2008.55775263   -323.98246911]\n"
     ]
    }
   ],
   "source": [
    "# Initialize Class Instance\n",
    "\n",
    "start_time = datetime.datetime(2019,2,1,0,0,0) # time of first sample\n",
    "end_time = datetime.datetime(2019,2,1,0,0,10) # time of last sample\n",
    "\n",
    "ooi1 = ooipy.OOIHydrophoneData(starttime=start_time, endtime=end_time, node='/PC01A', limit_seed_files=False, print_exceptions=True)\n",
    "if ooi1.data != None:\n",
    "    print(ooi1.data.data)\n",
    "else:\n",
    "    print('No Data Collected\\n\\n')\n",
    "\n",
    "ooi2 = ooipy.OOIHydrophoneData(limit_seed_files=False)\n",
    "ooi2.get_acoustic_data(start_time, end_time, node='/PC01A')\n",
    "print(Data fro)\n",
    "print(ooi2.data.data)"
   ]
  },
  {
   "cell_type": "code",
   "execution_count": 6,
   "metadata": {},
   "outputs": [
    {
     "name": "stdout",
     "output_type": "stream",
     "text": [
      "None\n"
     ]
    }
   ],
   "source": [
    "print(ooi1.data)"
   ]
  },
  {
   "cell_type": "code",
   "execution_count": null,
   "metadata": {},
   "outputs": [],
   "source": []
  }
 ],
 "metadata": {
  "kernelspec": {
   "display_name": "Python 3",
   "language": "python",
   "name": "python3"
  },
  "language_info": {
   "codemirror_mode": {
    "name": "ipython",
    "version": 3
   },
   "file_extension": ".py",
   "mimetype": "text/x-python",
   "name": "python",
   "nbconvert_exporter": "python",
   "pygments_lexer": "ipython3",
   "version": "3.7.7"
  }
 },
 "nbformat": 4,
 "nbformat_minor": 4
}
