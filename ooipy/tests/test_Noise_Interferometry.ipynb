{
 "cells": [
  {
   "cell_type": "markdown",
   "metadata": {},
   "source": [
    "# Noise Interferometry Test\n",
    "This tests the functionality of the noise interferometry module of ooipy\n",
    "\n",
    "## Sections\n",
    "- Compute Cross Correlation for specified window"
   ]
  },
  {
   "cell_type": "markdown",
   "metadata": {},
   "source": [
    "First, let's import all dependancies"
   ]
  },
  {
   "cell_type": "code",
   "execution_count": 6,
   "metadata": {},
   "outputs": [
    {
     "name": "stdout",
     "output_type": "stream",
     "text": [
      "/home/jhrag/Code/ooipy\n",
      "The autoreload extension is already loaded. To reload it, use:\n",
      "  %reload_ext autoreload\n"
     ]
    }
   ],
   "source": [
    "import os\n",
    "import sys\n",
    "cwd = os.getcwd()\n",
    "ooipy_dir = os.path.dirname(os.path.dirname(cwd))\n",
    "sys.path.append(ooipy_dir)\n",
    "print(ooipy_dir)\n",
    "import datetime\n",
    "import numpy as np\n",
    "from obspy import read,Stream, Trace\n",
    "from obspy.core import UTCDateTime\n",
    "from ooipy.hydrophone import Noise_Interferometry\n",
    "\n",
    "# Some more magic so that the notebook will reload external python modules;\n",
    "# see http://stackoverflow.com/questions/1907993/autoreload-of-modules-in-ipython\n",
    "%load_ext autoreload\n",
    "%autoreload 2"
   ]
  },
  {
   "cell_type": "markdown",
   "metadata": {},
   "source": [
    "## Compute Cross Correlation for Specified Window"
   ]
  },
  {
   "cell_type": "code",
   "execution_count": 2,
   "metadata": {
    "tags": []
   },
   "outputs": [
    {
     "name": "stdout",
     "output_type": "stream",
     "text": [
      "Distance Between Hydrophones:  38897.93618108771  meters\n",
      "Estimate Time Delay Between Hydrophones:  26.28238931154575  seconds\n",
      "Bearing Between Hydrophone 1 and 2:  297.28608345  degrees\n"
     ]
    }
   ],
   "source": [
    "num_periods = 1\n",
    "avg_time = 1 #minutes\n",
    "start_time = datetime.datetime(2017,3,10,0,0,0) # time of first sample\n",
    "node1 = '/LJ01C'\n",
    "node2 = '/PC01A'\n",
    "filter_data = False\n",
    "\n",
    "#Initialize Hydrophone Xcorr Class\n",
    "hyd_xcorr = Noise_Interferometry.Hydrophone_Xcorr(node1=node1, node2=node2, avg_time=avg_time, mp=True, W=60, filter_data=filter_data)"
   ]
  },
  {
   "cell_type": "code",
   "execution_count": 3,
   "metadata": {
    "tags": []
   },
   "outputs": [
    {
     "name": "stdout",
     "output_type": "stream",
     "text": [
      "\n",
      "\n",
      "Time Period:  1\n",
      "Getting Audio from Node 1...\n",
      "Fetching URLs...\n",
      "Sorting valid URLs for Time Window...\n",
      "Downloading mseed files...\n",
      "Getting Audio from Node 2...\n",
      "Fetching URLs...\n",
      "Sorting valid URLs for Time Window...\n",
      "Downloading mseed files...\n",
      "Time to Download Data from Server:  8.097117185592651\n",
      "Correlating Data...\n",
      "Time to Calculate Cross Correlation of 1 period:  0.5292127132415771\n",
      "Time to Complete 1 period:  8.627862215042114\n"
     ]
    }
   ],
   "source": [
    "# Average Cross Correlation Over Specified time\n",
    "t, xcorr_stack, bearing_max = hyd_xcorr.avg_over_mult_periods(num_periods, start_time)"
   ]
  },
  {
   "cell_type": "code",
   "execution_count": 4,
   "metadata": {
    "tags": []
   },
   "outputs": [
    {
     "name": "stdout",
     "output_type": "stream",
     "text": [
      "(7679999,)\n"
     ]
    }
   ],
   "source": [
    "print(xcorr_stack.shape)"
   ]
  },
  {
   "cell_type": "code",
   "execution_count": null,
   "metadata": {},
   "outputs": [],
   "source": []
  }
 ],
 "metadata": {
  "kernelspec": {
   "display_name": "Python 3",
   "language": "python",
   "name": "python3"
  },
  "language_info": {
   "codemirror_mode": {
    "name": "ipython",
    "version": 3
   },
   "file_extension": ".py",
   "mimetype": "text/x-python",
   "name": "python",
   "nbconvert_exporter": "python",
   "pygments_lexer": "ipython3",
   "version": "3.7.7"
  }
 },
 "nbformat": 4,
 "nbformat_minor": 2
}
