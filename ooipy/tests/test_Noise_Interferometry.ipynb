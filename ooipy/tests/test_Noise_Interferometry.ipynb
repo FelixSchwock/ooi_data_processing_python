{
 "cells": [
  {
   "cell_type": "markdown",
   "metadata": {},
   "source": [
    "# Noise Interferometry Demo\n",
    "\n",
    "First, let's import all of the dependancies"
   ]
  },
  {
   "cell_type": "code",
   "execution_count": 1,
   "metadata": {},
   "outputs": [],
   "source": [
    "import multiprocessing as mp\n",
    "import numpy as np\n",
    "import sys\n",
    "import os\n",
    "import numpy as np\n",
    "import scipy\n",
    "import datetime\n",
    "from matplotlib import pyplot as plt\n",
    "\n",
    "#Adding OOIPY Home Directory to Path\n",
    "cwd = os.getcwd()\n",
    "ooipy_dir = os.path.dirname(os.path.dirname(cwd))\n",
    "sys.path.append(ooipy_dir)\n",
    "from ooipy.hydrophone import Noise_Interferometry as NI\n",
    "\n",
    "# Some more magic so that the notebook will reload external python modules;\n",
    "# see http://stackoverflow.com/questions/1907993/autoreload-of-modules-in-ipython\n",
    "%load_ext autoreload\n",
    "%autoreload 2"
   ]
  },
  {
   "cell_type": "markdown",
   "metadata": {},
   "source": [
    "## Using the Non-Looping Functionality\n",
    "Since Noise Interferometry is usually calculated over long periods, the ability to loop through different average periods is available. First let's walk through how to do a single period calculation. This returns the NCF object."
   ]
  },
  {
   "cell_type": "markdown",
   "metadata": {},
   "source": [
    "This sets up all of the input parameters and initializes an instance of the NCF object"
   ]
  },
  {
   "cell_type": "code",
   "execution_count": 5,
   "metadata": {},
   "outputs": [],
   "source": [
    "avg_time = 1 #minutes\n",
    "start_time = datetime.datetime(2017,3,10,0,0,0) # time of first sample\n",
    "node1 = '/LJ01C'\n",
    "node2 = '/PC01A'\n",
    "filter_cutoffs = np.array([20, 30])\n",
    "W = 30\n",
    "\n",
    "NCF_object = NI.NCF(avg_time, start_time, node1, node2, filter_cutoffs, W, verbose=True)"
   ]
  },
  {
   "cell_type": "code",
   "execution_count": 6,
   "metadata": {},
   "outputs": [
    {
     "name": "stdout",
     "output_type": "stream",
     "text": [
      "   Getting Audio from Node 1...\n",
      "   Getting Audio from Node 2...\n",
      "   Filtering and Whitening Data for Node 1...\n",
      "   Filtering and Whitening Data for Node 2...\n",
      "   Correlating Data...\n",
      "   Time to Calculate NCF for 1 Average Period: 54.95468711853027 \n",
      "\n",
      "\n"
     ]
    }
   ],
   "source": [
    "NCF_object = NI.calculate_NCF(NCF_object, loop=False)"
   ]
  },
  {
   "cell_type": "markdown",
   "metadata": {},
   "source": [
    "## Using Loop Functionality\n",
    "This saves the NCF for each average periods in the directory ./ckpts/\n",
    "This example is just doing 2 loops"
   ]
  },
  {
   "cell_type": "code",
   "execution_count": 8,
   "metadata": {},
   "outputs": [
    {
     "name": "stdout",
     "output_type": "stream",
     "text": [
      "Calculting NCF for Period 1:\n",
      "   Getting Audio from Node 1...\n",
      "   Getting Audio from Node 2...\n",
      "   Filtering and Whitening Data for Node 1...\n",
      "   Filtering and Whitening Data for Node 2...\n",
      "   Correlating Data...\n",
      "   Time to Calculate NCF for 1 Average Period: 49.858784675598145 \n",
      "\n",
      "\n",
      "Calculting NCF for Period 2:\n",
      "   Getting Audio from Node 1...\n",
      "   Getting Audio from Node 2...\n",
      "   Filtering and Whitening Data for Node 1...\n",
      "   Filtering and Whitening Data for Node 2...\n",
      "   Correlating Data...\n",
      "   Time to Calculate NCF for 1 Average Period: 53.801218032836914 \n",
      "\n",
      "\n"
     ]
    }
   ],
   "source": [
    "num_periods = 2\n",
    "NI.calculate_NCF_loop(num_periods, node1, node2, avg_time, start_time, W,  filter_cutoffs, verbose=True)"
   ]
  },
  {
   "cell_type": "markdown",
   "metadata": {},
   "source": [
    "## Creating Single NCF from saved Chekpoints"
   ]
  },
  {
   "cell_type": "code",
   "execution_count": 11,
   "metadata": {},
   "outputs": [],
   "source": [
    "num_periods = 2"
   ]
  },
  {
   "cell_type": "code",
   "execution_count": 17,
   "metadata": {},
   "outputs": [
    {
     "data": {
      "text/plain": [
       "[<matplotlib.lines.Line2D at 0x7fe01267fcd0>]"
      ]
     },
     "execution_count": 17,
     "metadata": {},
     "output_type": "execute_result"
    },
    {
     "data": {
      "image/png": "[encoded data removed]",
      "text/plain": [
       "<Figure size 432x288 with 1 Axes>"
      ]
     },
     "metadata": {},
     "output_type": "display_data"
    }
   ],
   "source": [
    "for k in range(num_periods):\n",
    "    ckpt_name = './ckpts/ckpt_'+str(k)+'.pkl'\n",
    "    with open(ckpt_name, 'rb') as f:\n",
    "        xcorr_1hr = pickle.load(f)\n",
    "\n",
    "    if k == 0:\n",
    "        xcorr = xcorr_1hr\n",
    "    else:\n",
    "        xcorr = xcorr + xcorr_1hr\n",
    "\n",
    "sns.set()\n",
    "#Plot Xcorr\n",
    "dt = 1/64000\n",
    "t = np.arange(-xcorr.shape[0]*dt/2,xcorr.shape[0]*dt/2,dt)\n",
    "\n",
    "plt.plot(t,xcorr)"
   ]
  }
 ],
 "metadata": {
  "kernelspec": {
   "display_name": "Python 3",
   "language": "python",
   "name": "python3"
  },
  "language_info": {
   "codemirror_mode": {
    "name": "ipython",
    "version": 3
   },
   "file_extension": ".py",
   "mimetype": "text/x-python",
   "name": "python",
   "nbconvert_exporter": "python",
   "pygments_lexer": "ipython3",
   "version": "3.7.7"
  }
 },
 "nbformat": 4,
 "nbformat_minor": 2
}
