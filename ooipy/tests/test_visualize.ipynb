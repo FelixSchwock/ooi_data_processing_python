{
 "cells": [
  {
   "cell_type": "markdown",
   "metadata": {},
   "source": [
    "# Test and Debug notebook for visualize module"
   ]
  },
  {
   "cell_type": "code",
   "execution_count": 6,
   "metadata": {},
   "outputs": [
    {
     "name": "stdout",
     "output_type": "stream",
     "text": [
      "The autoreload extension is already loaded. To reload it, use:\n",
      "  %reload_ext autoreload\n"
     ]
    }
   ],
   "source": [
    "import os\n",
    "import sys\n",
    "\n",
    "import datetime\n",
    "import numpy as np\n",
    "from obspy import read,Stream, Trace\n",
    "from obspy.core import UTCDateTime\n",
    "\n",
    "cwd = os.getcwd()\n",
    "ooipy_dir = os.path.dirname(os.path.dirname(cwd))\n",
    "sys.path.append(ooipy_dir)\n",
    "from ooipy.request import hydrophone_request\n",
    "from ooipy.visualize import ooiplotlib as ooiplt\n",
    "from matplotlib import pyplot as plt\n",
    "\n",
    "\n",
    "# Some magic so that the notebook will reload external python modules;\n",
    "# see http://stackoverflow.com/questions/1907993/autoreload-of-modules-in-ipython\n",
    "%load_ext autoreload\n",
    "%autoreload 2"
   ]
  },
  {
   "cell_type": "code",
   "execution_count": 2,
   "metadata": {},
   "outputs": [
    {
     "name": "stdout",
     "output_type": "stream",
     "text": [
      "Getting Hydrophone Data from OOI: \n",
      "\n",
      "Fetching URLs...\n",
      "Sorting valid URLs for Time Window...\n",
      "Downloading mseed files...\n"
     ]
    }
   ],
   "source": [
    "start_time = datetime.datetime(2017,3,10,0,0,0)\n",
    "end_time = datetime.datetime(2017,3,10,0,5,0)\n",
    "node = '/PC01A'\n",
    "\n",
    "\n",
    "print('Getting Hydrophone Data from OOI: \\n')\n",
    "hydrophone_data = hydrophone_request.get_acoustic_data(start_time, end_time, node, verbose=True)"
   ]
  },
  {
   "cell_type": "code",
   "execution_count": 3,
   "metadata": {},
   "outputs": [
    {
     "data": {
      "text/plain": [
       "<ooipy.hydrophone.basic.Psd at 0x1d49a767888>"
      ]
     },
     "execution_count": 3,
     "metadata": {},
     "output_type": "execute_result"
    }
   ],
   "source": [
    "# compute spectrogram and PSD\n",
    "hydrophone_data.compute_spectrogram_mp(n_process=3, avg_time=1.0,)\n",
    "hydrophone_data.compute_psd_welch()"
   ]
  },
  {
   "cell_type": "code",
   "execution_count": 4,
   "metadata": {},
   "outputs": [
    {
     "data": {
      "text/plain": [
       "datetime.datetime"
      ]
     },
     "execution_count": 4,
     "metadata": {},
     "output_type": "execute_result"
    }
   ],
   "source": [
    "type(hydrophone_data.spectrogram.time[0])"
   ]
  },
  {
   "cell_type": "code",
   "execution_count": null,
   "metadata": {},
   "outputs": [],
   "source": [
    "ooiplt.plot(hydrophone_data.spectrogram)\n",
    "plt.title('Test')\n",
    "plt.ylim([0, 20000])\n",
    "plt.show()"
   ]
  },
  {
   "cell_type": "code",
   "execution_count": 12,
   "metadata": {},
   "outputs": [
    {
     "data": {
      "text/plain": [
       "array([  0.00000000e+00,   1.56250000e+01,   3.12500000e+01, ...,\n",
       "         3.19687500e+04,   3.19843750e+04,   3.20000000e+04])"
      ]
     },
     "execution_count": 12,
     "metadata": {},
     "output_type": "execute_result"
    }
   ],
   "source": [
    "hydrophone_data.spectrogram.freq"
   ]
  }
 ],
 "metadata": {
  "kernelspec": {
   "display_name": "Python 3",
   "language": "python",
   "name": "python3"
  },
  "language_info": {
   "codemirror_mode": {
    "name": "ipython",
    "version": 3
   },
   "file_extension": ".py",
   "mimetype": "text/x-python",
   "name": "python",
   "nbconvert_exporter": "python",
   "pygments_lexer": "ipython3",
   "version": "3.7.6"
  }
 },
 "nbformat": 4,
 "nbformat_minor": 4
}
